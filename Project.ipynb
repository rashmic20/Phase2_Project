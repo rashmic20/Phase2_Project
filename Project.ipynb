{
 "cells": [
  {
   "cell_type": "markdown",
   "id": "ccca29cc-3862-4264-ba47-075b255564de",
   "metadata": {},
   "source": [
    "## Phase 2 - Flatiron Data Science \n",
    "Project focused on Inferential Analysis: Heart Disease (Dataset from UCI)"
   ]
  },
  {
   "cell_type": "markdown",
   "id": "1a1d0e84-b496-4e5a-a3e3-e3d526727fec",
   "metadata": {},
   "source": [
    "By Rashmi Chauhan"
   ]
  },
  {
   "cell_type": "code",
   "execution_count": 21,
   "id": "c18ab41a-691b-494b-90fd-ba97f80498db",
   "metadata": {},
   "outputs": [],
   "source": [
    "import pandas as pd\n",
    "import numpy as np\n",
    "import matplotlib.pyplot as plt\n",
    "import seaborn as sns\n",
    "from scipy.stats import ttest_ind\n",
    "from scipy.stats import chi2_contingency\n",
    "from scipy.stats import f_oneway\n",
    "import warnings\n",
    "warnings.filterwarnings('ignore')"
   ]
  },
  {
   "cell_type": "code",
   "execution_count": 23,
   "id": "d08b0a3f-2747-4aeb-bc10-262b89bc61ff",
   "metadata": {},
   "outputs": [],
   "source": [
    "df = pd.read_csv(\"HeartDiseaseTrain-Test.csv\")"
   ]
  },
  {
   "cell_type": "code",
   "execution_count": 25,
   "id": "1e380435-318e-4c7e-bb07-572fac9cafd0",
   "metadata": {},
   "outputs": [
    {
     "data": {
      "text/html": [
       "<div>\n",
       "<style scoped>\n",
       "    .dataframe tbody tr th:only-of-type {\n",
       "        vertical-align: middle;\n",
       "    }\n",
       "\n",
       "    .dataframe tbody tr th {\n",
       "        vertical-align: top;\n",
       "    }\n",
       "\n",
       "    .dataframe thead th {\n",
       "        text-align: right;\n",
       "    }\n",
       "</style>\n",
       "<table border=\"1\" class=\"dataframe\">\n",
       "  <thead>\n",
       "    <tr style=\"text-align: right;\">\n",
       "      <th></th>\n",
       "      <th>age</th>\n",
       "      <th>sex</th>\n",
       "      <th>chest_pain_type</th>\n",
       "      <th>resting_blood_pressure</th>\n",
       "      <th>cholestoral</th>\n",
       "      <th>fasting_blood_sugar</th>\n",
       "      <th>rest_ecg</th>\n",
       "      <th>Max_heart_rate</th>\n",
       "      <th>exercise_induced_angina</th>\n",
       "      <th>oldpeak</th>\n",
       "      <th>slope</th>\n",
       "      <th>vessels_colored_by_flourosopy</th>\n",
       "      <th>thalassemia</th>\n",
       "      <th>target</th>\n",
       "    </tr>\n",
       "  </thead>\n",
       "  <tbody>\n",
       "    <tr>\n",
       "      <th>0</th>\n",
       "      <td>52</td>\n",
       "      <td>Male</td>\n",
       "      <td>Typical angina</td>\n",
       "      <td>125</td>\n",
       "      <td>212</td>\n",
       "      <td>Lower than 120 mg/ml</td>\n",
       "      <td>ST-T wave abnormality</td>\n",
       "      <td>168</td>\n",
       "      <td>No</td>\n",
       "      <td>1.0</td>\n",
       "      <td>Downsloping</td>\n",
       "      <td>Two</td>\n",
       "      <td>Reversable Defect</td>\n",
       "      <td>0</td>\n",
       "    </tr>\n",
       "    <tr>\n",
       "      <th>1</th>\n",
       "      <td>53</td>\n",
       "      <td>Male</td>\n",
       "      <td>Typical angina</td>\n",
       "      <td>140</td>\n",
       "      <td>203</td>\n",
       "      <td>Greater than 120 mg/ml</td>\n",
       "      <td>Normal</td>\n",
       "      <td>155</td>\n",
       "      <td>Yes</td>\n",
       "      <td>3.1</td>\n",
       "      <td>Upsloping</td>\n",
       "      <td>Zero</td>\n",
       "      <td>Reversable Defect</td>\n",
       "      <td>0</td>\n",
       "    </tr>\n",
       "    <tr>\n",
       "      <th>2</th>\n",
       "      <td>70</td>\n",
       "      <td>Male</td>\n",
       "      <td>Typical angina</td>\n",
       "      <td>145</td>\n",
       "      <td>174</td>\n",
       "      <td>Lower than 120 mg/ml</td>\n",
       "      <td>ST-T wave abnormality</td>\n",
       "      <td>125</td>\n",
       "      <td>Yes</td>\n",
       "      <td>2.6</td>\n",
       "      <td>Upsloping</td>\n",
       "      <td>Zero</td>\n",
       "      <td>Reversable Defect</td>\n",
       "      <td>0</td>\n",
       "    </tr>\n",
       "    <tr>\n",
       "      <th>3</th>\n",
       "      <td>61</td>\n",
       "      <td>Male</td>\n",
       "      <td>Typical angina</td>\n",
       "      <td>148</td>\n",
       "      <td>203</td>\n",
       "      <td>Lower than 120 mg/ml</td>\n",
       "      <td>ST-T wave abnormality</td>\n",
       "      <td>161</td>\n",
       "      <td>No</td>\n",
       "      <td>0.0</td>\n",
       "      <td>Downsloping</td>\n",
       "      <td>One</td>\n",
       "      <td>Reversable Defect</td>\n",
       "      <td>0</td>\n",
       "    </tr>\n",
       "    <tr>\n",
       "      <th>4</th>\n",
       "      <td>62</td>\n",
       "      <td>Female</td>\n",
       "      <td>Typical angina</td>\n",
       "      <td>138</td>\n",
       "      <td>294</td>\n",
       "      <td>Greater than 120 mg/ml</td>\n",
       "      <td>ST-T wave abnormality</td>\n",
       "      <td>106</td>\n",
       "      <td>No</td>\n",
       "      <td>1.9</td>\n",
       "      <td>Flat</td>\n",
       "      <td>Three</td>\n",
       "      <td>Fixed Defect</td>\n",
       "      <td>0</td>\n",
       "    </tr>\n",
       "  </tbody>\n",
       "</table>\n",
       "</div>"
      ],
      "text/plain": [
       "   age     sex chest_pain_type  resting_blood_pressure  cholestoral  \\\n",
       "0   52    Male  Typical angina                     125          212   \n",
       "1   53    Male  Typical angina                     140          203   \n",
       "2   70    Male  Typical angina                     145          174   \n",
       "3   61    Male  Typical angina                     148          203   \n",
       "4   62  Female  Typical angina                     138          294   \n",
       "\n",
       "      fasting_blood_sugar               rest_ecg  Max_heart_rate  \\\n",
       "0    Lower than 120 mg/ml  ST-T wave abnormality             168   \n",
       "1  Greater than 120 mg/ml                 Normal             155   \n",
       "2    Lower than 120 mg/ml  ST-T wave abnormality             125   \n",
       "3    Lower than 120 mg/ml  ST-T wave abnormality             161   \n",
       "4  Greater than 120 mg/ml  ST-T wave abnormality             106   \n",
       "\n",
       "  exercise_induced_angina  oldpeak        slope vessels_colored_by_flourosopy  \\\n",
       "0                      No      1.0  Downsloping                           Two   \n",
       "1                     Yes      3.1    Upsloping                          Zero   \n",
       "2                     Yes      2.6    Upsloping                          Zero   \n",
       "3                      No      0.0  Downsloping                           One   \n",
       "4                      No      1.9         Flat                         Three   \n",
       "\n",
       "         thalassemia  target  \n",
       "0  Reversable Defect       0  \n",
       "1  Reversable Defect       0  \n",
       "2  Reversable Defect       0  \n",
       "3  Reversable Defect       0  \n",
       "4       Fixed Defect       0  "
      ]
     },
     "execution_count": 25,
     "metadata": {},
     "output_type": "execute_result"
    }
   ],
   "source": [
    "df.head()"
   ]
  },
  {
   "cell_type": "code",
   "execution_count": 27,
   "id": "49ae1e73-9fd8-460d-9ae2-bea492f85180",
   "metadata": {},
   "outputs": [
    {
     "name": "stdout",
     "output_type": "stream",
     "text": [
      "<class 'pandas.core.frame.DataFrame'>\n",
      "RangeIndex: 1025 entries, 0 to 1024\n",
      "Data columns (total 14 columns):\n",
      " #   Column                         Non-Null Count  Dtype  \n",
      "---  ------                         --------------  -----  \n",
      " 0   age                            1025 non-null   int64  \n",
      " 1   sex                            1025 non-null   object \n",
      " 2   chest_pain_type                1025 non-null   object \n",
      " 3   resting_blood_pressure         1025 non-null   int64  \n",
      " 4   cholestoral                    1025 non-null   int64  \n",
      " 5   fasting_blood_sugar            1025 non-null   object \n",
      " 6   rest_ecg                       1025 non-null   object \n",
      " 7   Max_heart_rate                 1025 non-null   int64  \n",
      " 8   exercise_induced_angina        1025 non-null   object \n",
      " 9   oldpeak                        1025 non-null   float64\n",
      " 10  slope                          1025 non-null   object \n",
      " 11  vessels_colored_by_flourosopy  1025 non-null   object \n",
      " 12  thalassemia                    1025 non-null   object \n",
      " 13  target                         1025 non-null   int64  \n",
      "dtypes: float64(1), int64(5), object(8)\n",
      "memory usage: 112.2+ KB\n"
     ]
    }
   ],
   "source": [
    "df.info()"
   ]
  },
  {
   "cell_type": "code",
   "execution_count": 29,
   "id": "e3404d31-414a-4f60-a32b-888149eb0514",
   "metadata": {},
   "outputs": [
    {
     "data": {
      "text/plain": [
       "Index(['age', 'sex', 'chest_pain_type', 'resting_blood_pressure',\n",
       "       'cholestoral', 'fasting_blood_sugar', 'rest_ecg', 'Max_heart_rate',\n",
       "       'exercise_induced_angina', 'oldpeak', 'slope',\n",
       "       'vessels_colored_by_flourosopy', 'thalassemia', 'target'],\n",
       "      dtype='object')"
      ]
     },
     "execution_count": 29,
     "metadata": {},
     "output_type": "execute_result"
    }
   ],
   "source": [
    "df.columns"
   ]
  },
  {
   "cell_type": "code",
   "execution_count": 31,
   "id": "d2103ca3-7b4c-4c56-b10c-b69622c94ef5",
   "metadata": {
    "scrolled": true
   },
   "outputs": [
    {
     "data": {
      "text/html": [
       "<div>\n",
       "<style scoped>\n",
       "    .dataframe tbody tr th:only-of-type {\n",
       "        vertical-align: middle;\n",
       "    }\n",
       "\n",
       "    .dataframe tbody tr th {\n",
       "        vertical-align: top;\n",
       "    }\n",
       "\n",
       "    .dataframe thead th {\n",
       "        text-align: right;\n",
       "    }\n",
       "</style>\n",
       "<table border=\"1\" class=\"dataframe\">\n",
       "  <thead>\n",
       "    <tr style=\"text-align: right;\">\n",
       "      <th></th>\n",
       "      <th>count</th>\n",
       "      <th>mean</th>\n",
       "      <th>std</th>\n",
       "      <th>min</th>\n",
       "      <th>25%</th>\n",
       "      <th>50%</th>\n",
       "      <th>75%</th>\n",
       "      <th>max</th>\n",
       "    </tr>\n",
       "  </thead>\n",
       "  <tbody>\n",
       "    <tr>\n",
       "      <th>age</th>\n",
       "      <td>1025.0</td>\n",
       "      <td>54.434146</td>\n",
       "      <td>9.072290</td>\n",
       "      <td>29.0</td>\n",
       "      <td>48.0</td>\n",
       "      <td>56.0</td>\n",
       "      <td>61.0</td>\n",
       "      <td>77.0</td>\n",
       "    </tr>\n",
       "    <tr>\n",
       "      <th>resting_blood_pressure</th>\n",
       "      <td>1025.0</td>\n",
       "      <td>131.611707</td>\n",
       "      <td>17.516718</td>\n",
       "      <td>94.0</td>\n",
       "      <td>120.0</td>\n",
       "      <td>130.0</td>\n",
       "      <td>140.0</td>\n",
       "      <td>200.0</td>\n",
       "    </tr>\n",
       "    <tr>\n",
       "      <th>cholestoral</th>\n",
       "      <td>1025.0</td>\n",
       "      <td>246.000000</td>\n",
       "      <td>51.592510</td>\n",
       "      <td>126.0</td>\n",
       "      <td>211.0</td>\n",
       "      <td>240.0</td>\n",
       "      <td>275.0</td>\n",
       "      <td>564.0</td>\n",
       "    </tr>\n",
       "    <tr>\n",
       "      <th>Max_heart_rate</th>\n",
       "      <td>1025.0</td>\n",
       "      <td>149.114146</td>\n",
       "      <td>23.005724</td>\n",
       "      <td>71.0</td>\n",
       "      <td>132.0</td>\n",
       "      <td>152.0</td>\n",
       "      <td>166.0</td>\n",
       "      <td>202.0</td>\n",
       "    </tr>\n",
       "    <tr>\n",
       "      <th>oldpeak</th>\n",
       "      <td>1025.0</td>\n",
       "      <td>1.071512</td>\n",
       "      <td>1.175053</td>\n",
       "      <td>0.0</td>\n",
       "      <td>0.0</td>\n",
       "      <td>0.8</td>\n",
       "      <td>1.8</td>\n",
       "      <td>6.2</td>\n",
       "    </tr>\n",
       "    <tr>\n",
       "      <th>target</th>\n",
       "      <td>1025.0</td>\n",
       "      <td>0.513171</td>\n",
       "      <td>0.500070</td>\n",
       "      <td>0.0</td>\n",
       "      <td>0.0</td>\n",
       "      <td>1.0</td>\n",
       "      <td>1.0</td>\n",
       "      <td>1.0</td>\n",
       "    </tr>\n",
       "  </tbody>\n",
       "</table>\n",
       "</div>"
      ],
      "text/plain": [
       "                         count        mean        std    min    25%    50%  \\\n",
       "age                     1025.0   54.434146   9.072290   29.0   48.0   56.0   \n",
       "resting_blood_pressure  1025.0  131.611707  17.516718   94.0  120.0  130.0   \n",
       "cholestoral             1025.0  246.000000  51.592510  126.0  211.0  240.0   \n",
       "Max_heart_rate          1025.0  149.114146  23.005724   71.0  132.0  152.0   \n",
       "oldpeak                 1025.0    1.071512   1.175053    0.0    0.0    0.8   \n",
       "target                  1025.0    0.513171   0.500070    0.0    0.0    1.0   \n",
       "\n",
       "                          75%    max  \n",
       "age                      61.0   77.0  \n",
       "resting_blood_pressure  140.0  200.0  \n",
       "cholestoral             275.0  564.0  \n",
       "Max_heart_rate          166.0  202.0  \n",
       "oldpeak                   1.8    6.2  \n",
       "target                    1.0    1.0  "
      ]
     },
     "execution_count": 31,
     "metadata": {},
     "output_type": "execute_result"
    }
   ],
   "source": [
    "df.describe().T"
   ]
  },
  {
   "cell_type": "code",
   "execution_count": 33,
   "id": "30b16843-0a83-442f-aa37-ca9cf91cb3ea",
   "metadata": {},
   "outputs": [
    {
     "name": "stdout",
     "output_type": "stream",
     "text": [
      "<class 'pandas.core.frame.DataFrame'>\n",
      "RangeIndex: 1025 entries, 0 to 1024\n",
      "Data columns (total 14 columns):\n",
      " #   Column                         Non-Null Count  Dtype  \n",
      "---  ------                         --------------  -----  \n",
      " 0   age                            1025 non-null   int64  \n",
      " 1   sex                            1025 non-null   object \n",
      " 2   chest_pain_type                1025 non-null   object \n",
      " 3   resting_blood_pressure         1025 non-null   int64  \n",
      " 4   cholestoral                    1025 non-null   int64  \n",
      " 5   fasting_blood_sugar            1025 non-null   object \n",
      " 6   rest_ecg                       1025 non-null   object \n",
      " 7   Max_heart_rate                 1025 non-null   int64  \n",
      " 8   exercise_induced_angina        1025 non-null   object \n",
      " 9   oldpeak                        1025 non-null   float64\n",
      " 10  slope                          1025 non-null   object \n",
      " 11  vessels_colored_by_flourosopy  1025 non-null   object \n",
      " 12  thalassemia                    1025 non-null   object \n",
      " 13  target                         1025 non-null   int64  \n",
      "dtypes: float64(1), int64(5), object(8)\n",
      "memory usage: 112.2+ KB\n"
     ]
    }
   ],
   "source": [
    "df.info()"
   ]
  },
  {
   "cell_type": "markdown",
   "id": "d3a53f17-79c5-415c-9184-974c6225c126",
   "metadata": {},
   "source": [
    "Check data types:"
   ]
  },
  {
   "cell_type": "code",
   "execution_count": 35,
   "id": "861088cf-77be-4afd-879b-fbcbbdcf6fd6",
   "metadata": {},
   "outputs": [
    {
     "data": {
      "text/plain": [
       "age                               41\n",
       "sex                                2\n",
       "chest_pain_type                    4\n",
       "resting_blood_pressure            49\n",
       "cholestoral                      152\n",
       "fasting_blood_sugar                2\n",
       "rest_ecg                           3\n",
       "Max_heart_rate                    91\n",
       "exercise_induced_angina            2\n",
       "oldpeak                           40\n",
       "slope                              3\n",
       "vessels_colored_by_flourosopy      5\n",
       "thalassemia                        4\n",
       "target                             2\n",
       "dtype: int64"
      ]
     },
     "execution_count": 35,
     "metadata": {},
     "output_type": "execute_result"
    }
   ],
   "source": [
    "df.nunique()"
   ]
  },
  {
   "cell_type": "code",
   "execution_count": 41,
   "id": "3777e10f-b999-4ee8-b1ae-49c356defaca",
   "metadata": {},
   "outputs": [],
   "source": [
    "df['sex'] = df['sex'].astype('object')\n",
    "df['chest_pain_type'] = df['chest_pain_type'].astype('object') \n",
    "df['slope'] = df['slope'].astype('object')\n",
    "df['thalassemia '] = df['thalassemia'].astype('object')"
   ]
  },
  {
   "cell_type": "code",
   "execution_count": 65,
   "id": "15c7ee60-049d-4d2f-8ec9-b457b002f4c2",
   "metadata": {
    "scrolled": true
   },
   "outputs": [
    {
     "data": {
      "text/plain": [
       "age                                int64\n",
       "sex                               object\n",
       "chest_pain_type                   object\n",
       "resting_blood_pressure             int64\n",
       "cholestoral                        int64\n",
       "fasting_blood_sugar               object\n",
       "rest_ecg                          object\n",
       "Max_heart_rate                     int64\n",
       "exercise_induced_angina           object\n",
       "oldpeak                          float64\n",
       "slope                             object\n",
       "vessels_colored_by_flourosopy     object\n",
       "thalassemia                       object\n",
       "target                             int64\n",
       "thalassemia                       object\n",
       "dtype: object"
      ]
     },
     "execution_count": 65,
     "metadata": {},
     "output_type": "execute_result"
    }
   ],
   "source": [
    "df.dtypes"
   ]
  },
  {
   "cell_type": "markdown",
   "id": "1b4fe19d-033f-48bb-b00a-bd72aac50ce4",
   "metadata": {},
   "source": [
    "My data:\n",
    "2 types of sex (male or female)\n",
    "4 types of chest pain\n",
    "2 types of fasting_blood_sugar(less than or greater than)\n",
    "3 types of rest_ecg\n",
    "4 types of thalassemia\n",
    "5 types of colored by flourosopy\n",
    "3 types of slope\n",
    "2 types of induced angina(yes or no)"
   ]
  },
  {
   "cell_type": "markdown",
   "id": "1beb3f02-18d4-4421-a377-97d1213dc047",
   "metadata": {},
   "source": [
    "### EDA on Heart Disease Dataset"
   ]
  },
  {
   "cell_type": "code",
   "execution_count": 47,
   "id": "4858ff33-1fd8-4e59-9199-38e15263548f",
   "metadata": {},
   "outputs": [
    {
     "data": {
      "text/plain": [
       "Index(['age', 'sex', 'chest_pain_type', 'resting_blood_pressure',\n",
       "       'cholestoral', 'fasting_blood_sugar', 'rest_ecg', 'Max_heart_rate',\n",
       "       'exercise_induced_angina', 'oldpeak', 'slope',\n",
       "       'vessels_colored_by_flourosopy', 'thalassemia', 'target',\n",
       "       'thalassemia '],\n",
       "      dtype='object')"
      ]
     },
     "execution_count": 47,
     "metadata": {},
     "output_type": "execute_result"
    }
   ],
   "source": [
    "df.columns"
   ]
  },
  {
   "cell_type": "code",
   "execution_count": 51,
   "id": "7f7ef068-dcde-461f-8cc7-fed8d0b28028",
   "metadata": {},
   "outputs": [
    {
     "name": "stdout",
     "output_type": "stream",
     "text": [
      "target\n",
      "1    526\n",
      "0    499\n",
      "Name: count, dtype: int64\n"
     ]
    },
    {
     "data": {
      "text/plain": [
       "target\n",
       "1    526\n",
       "0    499\n",
       "Name: count, dtype: int64"
      ]
     },
     "execution_count": 51,
     "metadata": {},
     "output_type": "execute_result"
    }
   ],
   "source": [
    "print(df.target.value_counts())\n",
    "df['target'].value_counts()\n",
    "     "
   ]
  },
  {
   "cell_type": "code",
   "execution_count": 55,
   "id": "2cfb7467-05e1-4992-9cbe-22e611e0c185",
   "metadata": {},
   "outputs": [
    {
     "name": "stdout",
     "output_type": "stream",
     "text": [
      "sex\n",
      "Male      713\n",
      "Female    312\n",
      "Name: count, dtype: int64\n"
     ]
    },
    {
     "data": {
      "text/plain": [
       "sex\n",
       "Male      713\n",
       "Female    312\n",
       "Name: count, dtype: int64"
      ]
     },
     "execution_count": 55,
     "metadata": {},
     "output_type": "execute_result"
    }
   ],
   "source": [
    "print(df.sex.value_counts())\n",
    "df['sex'].value_counts()"
   ]
  },
  {
   "cell_type": "code",
   "execution_count": 16,
   "id": "2fda4be5-4dcc-40c0-9ba3-3b970c3f3a43",
   "metadata": {},
   "outputs": [
    {
     "data": {
      "image/png": "[encoded data removed]",
      "text/plain": [
       "<Figure size 600x400 with 1 Axes>"
      ]
     },
     "metadata": {},
     "output_type": "display_data"
    }
   ],
   "source": [
    "import seaborn as sns\n",
    "import matplotlib.pyplot as plt\n",
    "\n",
    "plt.figure(figsize=(6, 4))\n",
    "sns.set(style=\"whitegrid\")\n",
    "bar_plot = sns.countplot(x='chest_pain_type', data=df, palette='viridis')\n",
    "\n",
    "# Adding annotations\n",
    "for p in bar_plot.patches:\n",
    "    bar_plot.annotate(f'{p.get_height()}', (p.get_x() + p.get_width() / 2., p.get_height()), \n",
    "                      ha='center', va='center', xytext=(0, 10), textcoords='offset points')\n",
    "\n",
    "plt.title('Distribution of Chest Pain Types')\n",
    "plt.xlabel('Chest Pain Type')\n",
    "plt.ylabel('Count')\n",
    "plt.show()"
   ]
  },
  {
   "cell_type": "markdown",
   "id": "01ff04ff-4fc8-49f8-a907-3019129d31f5",
   "metadata": {},
   "source": [
    "### Visualize categorical data distribution"
   ]
  },
  {
   "cell_type": "code",
   "execution_count": 63,
   "id": "e2182a84-43df-480d-aa3d-1511e97daebc",
   "metadata": {},
   "outputs": [
    {
     "data": {
      "text/plain": [
       "Text(0.5, 1.0, 'Disease classes according to Sex')"
      ]
     },
     "execution_count": 63,
     "metadata": {},
     "output_type": "execute_result"
    },
    {
     "data": {
      "image/png": "[encoded data removed]",
      "text/plain": [
       "<Figure size 640x480 with 1 Axes>"
      ]
     },
     "metadata": {},
     "output_type": "display_data"
    }
   ],
   "source": [
    "sns.countplot(x='sex', hue='target', data=df, palette='Set2').set_title('Disease classes according to Sex')\n",
    "     "
   ]
  },
  {
   "cell_type": "code",
   "execution_count": null,
   "id": "9de18a17-d9d1-4182-ab89-84a663cbc266",
   "metadata": {
    "slideshow": {
     "slide_type": "slide"
    }
   },
   "outputs": [],
   "source": [
    "How does age affect the risk of experiencing a heart attack?"
   ]
  },
  {
   "cell_type": "code",
   "execution_count": 69,
   "id": "64933915-4429-498f-99f7-2104854ac6b3",
   "metadata": {
    "scrolled": true
   },
   "outputs": [
    {
     "data": {
      "image/png": "[encoded data removed]",
      "text/plain": [
       "<Figure size 640x480 with 1 Axes>"
      ]
     },
     "metadata": {},
     "output_type": "display_data"
    },
    {
     "data": {
      "text/plain": [
       "<Figure size 1000x600 with 0 Axes>"
      ]
     },
     "metadata": {},
     "output_type": "display_data"
    },
    {
     "data": {
      "image/png": "[encoded data removed]",
      "text/plain": [
       "<Figure size 640x480 with 1 Axes>"
      ]
     },
     "metadata": {},
     "output_type": "display_data"
    },
    {
     "data": {
      "image/png": "[encoded data removed]",
      "text/plain": [
       "<Figure size 1200x600 with 2 Axes>"
      ]
     },
     "metadata": {},
     "output_type": "display_data"
    }
   ],
   "source": [
    "# Box plots for Age distribution in both groups (Heart Attack Incidence: 0 and 1)\n",
    "\n",
    "sns.boxplot(x='target', y='cholestoral', data=df)\n",
    "\n",
    "\n",
    "plt.figure(figsize=(10, 6))\n",
    "df.boxplot(column='age', by='target', grid=False)\n",
    "plt.title('Box Plot of Age Distribution by Heart Attack Incidence')\n",
    "plt.suptitle('')  # Suppress the default title\n",
    "plt.xlabel('Heart Attack Incidence (0 = No, 1 = Yes)')\n",
    "plt.ylabel('Age')\n",
    "plt.show()\n",
    "\n",
    "# Histograms for Age distribution in both groups (Heart Attack Incidence: 0 and 1)\n",
    "plt.figure(figsize=(12, 6))\n",
    "\n",
    "# Histogram for patients without a heart attack\n",
    "plt.subplot(1, 2, 1)\n",
    "plt.hist(df[df['target'] == 0]['age'], bins=10, alpha=0.7, color='blue')\n",
    "plt.title('Age Distribution for No Heart Attack')\n",
    "plt.xlabel('Age')\n",
    "plt.ylabel('Frequency')\n",
    "# Histogram for patients with a heart attack\n",
    "plt.subplot(1, 2, 2)\n",
    "plt.hist(df[df['target'] == 1]['age'], bins=10, alpha=0.7, color='red')\n",
    "plt.title('Age Distribution for Heart Attack')\n",
    "plt.xlabel('Age')\n",
    "plt.ylabel('Frequency')\n",
    "\n",
    "plt.tight_layout()\n",
    "plt.show()"
   ]
  },
  {
   "cell_type": "code",
   "execution_count": 81,
   "id": "7fbc1a80-b665-42c9-a220-9e28d16fe5f6",
   "metadata": {},
   "outputs": [
    {
     "data": {
      "image/png": "[encoded data removed]",
      "text/plain": [
       "<Figure size 600x400 with 1 Axes>"
      ]
     },
     "metadata": {},
     "output_type": "display_data"
    }
   ],
   "source": [
    "# Create the box plot\n",
    "plt.figure(figsize=(6, 4))\n",
    "sns.boxplot(x='target', y='age', data=df, palette='Set2')\n",
    "\n",
    "# Add titles and labels\n",
    "plt.title('Box Plot of Age by Heart Attack Incidence')\n",
    "plt.xlabel('Heart Attack')\n",
    "plt.ylabel('Age')\n",
    "\n",
    "# Show plot\n",
    "plt.show()"
   ]
  },
  {
   "cell_type": "markdown",
   "id": "6c7441c8-6a92-43ca-8d68-0ec6a2660ca4",
   "metadata": {},
   "source": [
    "## Inferential Analysis:\n",
    "\n",
    "### Q1: Is there a significant difference in the mean age between patients who have had a heart attack and those who have not?\""
   ]
  },
  {
   "cell_type": "markdown",
   "id": "a028b260-0445-4069-92a2-6440b6ec3b0e",
   "metadata": {},
   "source": [
    "Null Hypothesis (H₀): There is no significant difference in the mean age between patients who have had a heart attack and those who have not. (The mean age of both groups is the same.)\n",
    "\n",
    "Alternative Hypothesis (H₁): There is a significant difference in the mean age between patients who have had a heart attack and those who have not. (The mean age of the two groups is different.)"
   ]
  },
  {
   "cell_type": "code",
   "execution_count": 73,
   "id": "29e38875-3593-4534-bb93-c96bfccbf785",
   "metadata": {},
   "outputs": [
    {
     "name": "stdout",
     "output_type": "stream",
     "text": [
      "T-test for Age: t-statistic = 7.535591207962243, p-value = 1.0677220241596988e-13\n",
      "Reject the null hypothesis, indicating a significant difference in the mean age of patients who had heart attack.\n"
     ]
    }
   ],
   "source": [
    "# Create samples for t-test\n",
    "age_no_heart_attack = df[df['target'] == 0]['age']\n",
    "age_with_heart_attack = df[df['target'] == 1]['age']\n",
    "\n",
    "t_stat, p_value = ttest_ind(age_no_heart_attack, age_with_heart_attack)\n",
    "print(f'T-test for Age: t-statistic = {t_stat}, p-value = {p_value}')\n",
    "\n",
    "if p_value < 0.05:\n",
    "    print(\"Reject the null hypothesis, indicating a significant difference in the mean age of patients who had heart attack.\")\n",
    "else:\n",
    "    print(\"Fail to reject the null hypothesis, indicating no significant difference in the mean age of patients who had heart attack.\")"
   ]
  },
  {
   "cell_type": "markdown",
   "id": "0e3ee1fe-5b84-48d8-841e-ab889cff5b36",
   "metadata": {},
   "source": [
    "### Q2: Is there a statistically significant association between sex and the incidence of heart attacks among the study population? "
   ]
  },
  {
   "cell_type": "markdown",
   "id": "b9e0225c-c53e-46fe-b0db-5f36566dcf8c",
   "metadata": {},
   "source": [
    "Null Hypothesis (H₀): There is no association between sex and heart attack incidence.\n",
    "\n",
    "Alternative Hypothesis (H₁): There is an association between sex and heart attack incidence.\n"
   ]
  },
  {
   "cell_type": "code",
   "execution_count": 34,
   "id": "74e7d8d7-81f0-431f-812d-d4046a0ee43d",
   "metadata": {},
   "outputs": [
    {
     "name": "stdout",
     "output_type": "stream",
     "text": [
      "Chi-Square Test for Sex: chi2-statistic = 78.86305133922973, p-value = 6.656820681726434e-19\n"
     ]
    }
   ],
   "source": [
    "from scipy.stats import chi2_contingency \n",
    "\n",
    "# Create contingency table\n",
    "contingency_table = pd.crosstab(df['sex'], df['target'])\n",
    "\n",
    "# Perform chi-square test\n",
    "chi2_stat, p_val, _, _ = chi2_contingency(contingency_table)\n",
    "print(f'Chi-Square Test for Sex: chi2-statistic = {chi2_stat}, p-value = {p_val}')"
   ]
  },
  {
   "cell_type": "code",
   "execution_count": null,
   "id": "bc131eda-2313-441b-b3e0-55f83bd1fbd7",
   "metadata": {},
   "outputs": [],
   "source": []
  },
  {
   "cell_type": "markdown",
   "id": "3d249ff4-5e08-45f0-b2d5-42b47ae7332c",
   "metadata": {},
   "source": [
    "### Q3: Is there a statistically significant difference in the mean age among patients with different types of chest pain?"
   ]
  },
  {
   "cell_type": "markdown",
   "id": "9debe7f3-96ab-4f7f-92ae-d49e968156b2",
   "metadata": {},
   "source": [
    "Null Hypothesis (H₀): There is no significant difference in the mean age among patients with different types of chest pain.\n",
    "\n",
    "Alternative Hypothesis (H₁): There is a significant difference in the mean age among patients with different types of chest pain."
   ]
  },
  {
   "cell_type": "code",
   "execution_count": 40,
   "id": "ae71af62-7e06-4b2a-a6c7-b9abd82805fb",
   "metadata": {},
   "outputs": [
    {
     "name": "stdout",
     "output_type": "stream",
     "text": [
      "ANOVA for Age by Chest Pain Type: F-statistic = 12.713293588650242, p-value = 3.672018484649832e-08\n"
     ]
    }
   ],
   "source": [
    "# Sample for age and chest pain type\n",
    "age_by_pain_type = [df[df['chest_pain_type'] == pain_type]['age'] for pain_type in df['chest_pain_type'].unique()]\n",
    "f_stat, p_val = f_oneway(*age_by_pain_type)\n",
    "print(f'ANOVA for Age by Chest Pain Type: F-statistic = {f_stat}, p-value = {p_val}')"
   ]
  },
  {
   "cell_type": "code",
   "execution_count": null,
   "id": "4f4a3986-bb9a-45a4-a7b4-3b00e82f06aa",
   "metadata": {},
   "outputs": [],
   "source": []
  }
 ],
 "metadata": {
  "kernelspec": {
   "display_name": "Python 3 (ipykernel)",
   "language": "python",
   "name": "python3"
  },
  "language_info": {
   "codemirror_mode": {
    "name": "ipython",
    "version": 3
   },
   "file_extension": ".py",
   "mimetype": "text/x-python",
   "name": "python",
   "nbconvert_exporter": "python",
   "pygments_lexer": "ipython3",
   "version": "3.12.4"
  }
 },
 "nbformat": 4,
 "nbformat_minor": 5
}
